{
 "cells": [
  {
   "cell_type": "code",
   "execution_count": 2,
   "id": "64d789b8",
   "metadata": {},
   "outputs": [],
   "source": [
    "import fsemu\n",
    "import numpy as np"
   ]
  },
  {
   "cell_type": "code",
   "execution_count": 3,
   "id": "fea52e0b",
   "metadata": {},
   "outputs": [],
   "source": [
    "circ = [('H',(0,)), ('CNOT', (0,1)), ('CNOT', (0,2)), ('CNOT', (0,3))]\n",
    "final  = fsemu.simulate(4, circ)"
   ]
  },
  {
   "cell_type": "code",
   "execution_count": 4,
   "id": "b21a1e2e",
   "metadata": {},
   "outputs": [
    {
     "data": {
      "text/plain": [
       "{'0000': np.float64(0.4999999999999999),\n",
       " '0001': np.float64(0.0),\n",
       " '0010': np.float64(0.0),\n",
       " '0011': np.float64(0.0),\n",
       " '0100': np.float64(0.0),\n",
       " '0101': np.float64(0.0),\n",
       " '0110': np.float64(0.0),\n",
       " '0111': np.float64(0.0),\n",
       " '1000': np.float64(0.0),\n",
       " '1001': np.float64(0.0),\n",
       " '1010': np.float64(0.0),\n",
       " '1011': np.float64(0.0),\n",
       " '1100': np.float64(0.0),\n",
       " '1101': np.float64(0.0),\n",
       " '1110': np.float64(0.0),\n",
       " '1111': np.float64(0.4999999999999999)}"
      ]
     },
     "execution_count": 4,
     "metadata": {},
     "output_type": "execute_result"
    }
   ],
   "source": [
    "fsemu.get_probabilities(final)"
   ]
  },
  {
   "cell_type": "code",
   "execution_count": 5,
   "id": "4916532f",
   "metadata": {},
   "outputs": [],
   "source": [
    "zerostate = fsemu.init_state(4)"
   ]
  },
  {
   "cell_type": "code",
   "execution_count": 6,
   "id": "f1f13f35",
   "metadata": {},
   "outputs": [
    {
     "data": {
      "text/plain": [
       "np.float64(0.9999999999999998)"
      ]
     },
     "execution_count": 6,
     "metadata": {},
     "output_type": "execute_result"
    }
   ],
   "source": [
    "fsemu.expectation_value(final, [('Z', (0,)), ('Z', (3,))])"
   ]
  },
  {
   "cell_type": "code",
   "execution_count": 7,
   "id": "3795574c",
   "metadata": {},
   "outputs": [
    {
     "data": {
      "text/plain": [
       "np.float64(0.9999999999999998)"
      ]
     },
     "execution_count": 7,
     "metadata": {},
     "output_type": "execute_result"
    }
   ],
   "source": [
    "fsemu.get_zcorrelator(final, 0,3)"
   ]
  },
  {
   "cell_type": "code",
   "execution_count": 10,
   "id": "e4ae1fbb",
   "metadata": {},
   "outputs": [
    {
     "data": {
      "text/plain": [
       "(1, 1, 1, 1)"
      ]
     },
     "execution_count": 10,
     "metadata": {},
     "output_type": "execute_result"
    }
   ],
   "source": [
    "fsemu.sample_state(final)"
   ]
  },
  {
   "cell_type": "code",
   "execution_count": 2,
   "id": "97583422",
   "metadata": {},
   "outputs": [
    {
     "name": "stdout",
     "output_type": "stream",
     "text": [
      "[[ 7 16 27]\n",
      " [40 55 72]]\n"
     ]
    }
   ],
   "source": [
    "a = np.array([[1, 2, 3], [4, 5, 6]])\n",
    "b = np.array([[7, 8, 9], [10, 11, 12]])\n",
    "\n",
    "result = np.multiply(a, b)\n",
    "print(result)"
   ]
  },
  {
   "cell_type": "code",
   "execution_count": 12,
   "id": "f3bab4c5",
   "metadata": {},
   "outputs": [],
   "source": [
    "test1 = np.array([[[1,1],[1,1]],[[1,1],[1,1]]])\n"
   ]
  },
  {
   "cell_type": "code",
   "execution_count": 13,
   "id": "3a1bd545",
   "metadata": {},
   "outputs": [
    {
     "data": {
      "text/plain": [
       "(2, 2, 2)"
      ]
     },
     "execution_count": 13,
     "metadata": {},
     "output_type": "execute_result"
    }
   ],
   "source": [
    "test1.shape"
   ]
  },
  {
   "cell_type": "code",
   "execution_count": 1,
   "id": "6f4c82e0",
   "metadata": {},
   "outputs": [],
   "source": [
    "import mps\n",
    "import numpy as np\n",
    "import fsemu"
   ]
  },
  {
   "cell_type": "code",
   "execution_count": 7,
   "id": "1eaac008",
   "metadata": {},
   "outputs": [],
   "source": [
    "randomstate = mps.init_state_random(4, 2)\n",
    "zerostate = mps.init_state_zero(4)"
   ]
  },
  {
   "cell_type": "code",
   "execution_count": 8,
   "id": "e31aab1e",
   "metadata": {},
   "outputs": [
    {
     "data": {
      "text/plain": [
       "[array([[[1.],\n",
       "         [0.]]]),\n",
       " array([[[1.],\n",
       "         [0.]]]),\n",
       " array([[[1.],\n",
       "         [0.]]]),\n",
       " array([[[1.],\n",
       "         [0.]]])]"
      ]
     },
     "execution_count": 8,
     "metadata": {},
     "output_type": "execute_result"
    }
   ],
   "source": [
    "zerostate"
   ]
  },
  {
   "cell_type": "code",
   "execution_count": 12,
   "id": "ed5471cc",
   "metadata": {},
   "outputs": [],
   "source": [
    "zerostate = mps.apply_1q_gate(zerostate, 2, mps.gates['Y'])"
   ]
  },
  {
   "cell_type": "code",
   "execution_count": 13,
   "id": "ad73c9fd",
   "metadata": {},
   "outputs": [
    {
     "data": {
      "text/plain": [
       "[array([[[1.],\n",
       "         [0.]]]),\n",
       " array([[[1.],\n",
       "         [0.]]]),\n",
       " array([[[0.+0.70710678j],\n",
       "         [0.-0.70710678j]]]),\n",
       " array([[[1.],\n",
       "         [0.]]])]"
      ]
     },
     "execution_count": 13,
     "metadata": {},
     "output_type": "execute_result"
    }
   ],
   "source": [
    "zerostate"
   ]
  },
  {
   "cell_type": "code",
   "execution_count": 3,
   "id": "64c8975a",
   "metadata": {},
   "outputs": [],
   "source": [
    "flatmps = mps.give_flat(zerostate)"
   ]
  },
  {
   "cell_type": "code",
   "execution_count": 4,
   "id": "5d4babb0",
   "metadata": {},
   "outputs": [],
   "source": [
    "flatfs = fsemu.init_state(4)"
   ]
  },
  {
   "cell_type": "code",
   "execution_count": 5,
   "id": "d3b4045d",
   "metadata": {},
   "outputs": [
    {
     "name": "stdout",
     "output_type": "stream",
     "text": [
      "[[[[1. 0.]\n",
      "   [0. 0.]]\n",
      "\n",
      "  [[0. 0.]\n",
      "   [0. 0.]]]\n",
      "\n",
      "\n",
      " [[[0. 0.]\n",
      "   [0. 0.]]\n",
      "\n",
      "  [[0. 0.]\n",
      "   [0. 0.]]]]\n",
      "[[[[1. 0.]\n",
      "   [0. 0.]]\n",
      "\n",
      "  [[0. 0.]\n",
      "   [0. 0.]]]\n",
      "\n",
      "\n",
      " [[[0. 0.]\n",
      "   [0. 0.]]\n",
      "\n",
      "  [[0. 0.]\n",
      "   [0. 0.]]]]\n"
     ]
    }
   ],
   "source": [
    "print(flatmps)\n",
    "print(flatfs)"
   ]
  },
  {
   "cell_type": "code",
   "execution_count": 6,
   "id": "c9263939",
   "metadata": {},
   "outputs": [],
   "source": [
    "a = np.array([1,2])\n",
    "b= np.array([3,4])\n"
   ]
  },
  {
   "cell_type": "code",
   "execution_count": 11,
   "id": "72d02a36",
   "metadata": {},
   "outputs": [
    {
     "data": {
      "text/plain": [
       "array([1, 2, 3, 4])"
      ]
     },
     "execution_count": 11,
     "metadata": {},
     "output_type": "execute_result"
    }
   ],
   "source": [
    "np.concatenate([a, b])"
   ]
  },
  {
   "cell_type": "code",
   "execution_count": null,
   "id": "6db629b8",
   "metadata": {},
   "outputs": [],
   "source": []
  }
 ],
 "metadata": {
  "kernelspec": {
   "display_name": ".venv",
   "language": "python",
   "name": "python3"
  },
  "language_info": {
   "codemirror_mode": {
    "name": "ipython",
    "version": 3
   },
   "file_extension": ".py",
   "mimetype": "text/x-python",
   "name": "python",
   "nbconvert_exporter": "python",
   "pygments_lexer": "ipython3",
   "version": "3.12.3"
  }
 },
 "nbformat": 4,
 "nbformat_minor": 5
}
