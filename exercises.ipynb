{
 "cells": [
  {
   "cell_type": "code",
   "execution_count": 1,
   "id": "f1f13f35",
   "metadata": {},
   "outputs": [],
   "source": [
    "import numpy as np"
   ]
  },
  {
   "cell_type": "code",
   "execution_count": 2,
   "id": "97583422",
   "metadata": {},
   "outputs": [
    {
     "name": "stdout",
     "output_type": "stream",
     "text": [
      "[[ 7 16 27]\n",
      " [40 55 72]]\n"
     ]
    }
   ],
   "source": [
    "a = np.array([[1, 2, 3], [4, 5, 6]])\n",
    "b = np.array([[7, 8, 9], [10, 11, 12]])\n",
    "\n",
    "result = np.multiply(a, b)\n",
    "print(result)"
   ]
  },
  {
   "cell_type": "code",
   "execution_count": null,
   "id": "213b0296",
   "metadata": {},
   "outputs": [],
   "source": [
    "def apply_1q_gate_simples(state, gate):\n",
    "    state = np.asarray(state)\n",
    "    gate = np.asarray(gate)\n",
    "    new_state = np.empty_like(state)\n",
    "    \n",
    "    idim, jdim, kdim, ldim = state.shape\n",
    "    for i in range(idim):\n",
    "        for j in range(jdim):\n",
    "            for k in range(kdim):\n",
    "                for l in range(ldim):\n",
    "                    new_state[i, j, k, l] = state[i, j, k, :] @ gate[:, l]    \n",
    "    "
   ]
  },
  {
   "cell_type": "code",
   "execution_count": null,
   "id": "7d239e74",
   "metadata": {},
   "outputs": [],
   "source": [
    "def apply_1q_gate_simple(state, gate):\n",
    "    state = np.asarray(state)\n",
    "    gate = np.asarray(gate)\n",
    "    new_state = np.empty_like(state)\n",
    "    \n",
    "    for ijkl in np.ndindex(*state.shape):\n",
    "        *ijk, l = ijkl\n",
    "        new_state[ijkl] = state[*ijk, :] @ gate[:, l]"
   ]
  },
  {
   "cell_type": "code",
   "execution_count": null,
   "id": "70fafb0b",
   "metadata": {},
   "outputs": [],
   "source": [
    "def apply_gate(state, targets, gate):\n",
    "    state = np.asarray(state)\n",
    "    gate = np.asarray(gate)\n",
    "    \n",
    "    n = state.ndim\n",
    "    m = len(targets)\n",
    "    \n",
    "    state = np.tensordot(state, gate, (targets, np.arange(m)))\n",
    "                         \n",
    "    return np.moveaxis(state, np.arange(n-m,n), targets)\n",
    "    "
   ]
  },
  {
   "cell_type": "code",
   "execution_count": 4,
   "id": "40368f8a",
   "metadata": {},
   "outputs": [
    {
     "name": "stdout",
     "output_type": "stream",
     "text": [
      "Hello\n",
      "World\n",
      "from\n",
      "Python\n"
     ]
    }
   ],
   "source": [
    "statevector([\"Hello\", \"World\", \"from\", \"Python\"])"
   ]
  },
  {
   "cell_type": "code",
   "execution_count": null,
   "id": "13cf5bc7",
   "metadata": {},
   "outputs": [],
   "source": []
  }
 ],
 "metadata": {
  "kernelspec": {
   "display_name": ".venv",
   "language": "python",
   "name": "python3"
  },
  "language_info": {
   "codemirror_mode": {
    "name": "ipython",
    "version": 3
   },
   "file_extension": ".py",
   "mimetype": "text/x-python",
   "name": "python",
   "nbconvert_exporter": "python",
   "pygments_lexer": "ipython3",
   "version": "3.12.3"
  }
 },
 "nbformat": 4,
 "nbformat_minor": 5
}
