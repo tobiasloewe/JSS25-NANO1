{
 "cells": [
  {
   "cell_type": "code",
   "execution_count": 2,
   "id": "64d789b8",
   "metadata": {},
   "outputs": [],
   "source": [
    "import fsemu\n",
    "import numpy as np"
   ]
  },
  {
   "cell_type": "code",
   "execution_count": 3,
   "id": "fea52e0b",
   "metadata": {},
   "outputs": [],
   "source": [
    "circ = [('H',(0,)), ('CNOT', (0,1)), ('CNOT', (0,2)), ('CNOT', (0,3))]\n",
    "final  = fsemu.simulate(4, circ)"
   ]
  },
  {
   "cell_type": "code",
   "execution_count": 4,
   "id": "b21a1e2e",
   "metadata": {},
   "outputs": [
    {
     "data": {
      "text/plain": [
       "{'0000': np.float64(0.4999999999999999),\n",
       " '0001': np.float64(0.0),\n",
       " '0010': np.float64(0.0),\n",
       " '0011': np.float64(0.0),\n",
       " '0100': np.float64(0.0),\n",
       " '0101': np.float64(0.0),\n",
       " '0110': np.float64(0.0),\n",
       " '0111': np.float64(0.0),\n",
       " '1000': np.float64(0.0),\n",
       " '1001': np.float64(0.0),\n",
       " '1010': np.float64(0.0),\n",
       " '1011': np.float64(0.0),\n",
       " '1100': np.float64(0.0),\n",
       " '1101': np.float64(0.0),\n",
       " '1110': np.float64(0.0),\n",
       " '1111': np.float64(0.4999999999999999)}"
      ]
     },
     "execution_count": 4,
     "metadata": {},
     "output_type": "execute_result"
    }
   ],
   "source": [
    "fsemu.get_probabilities(final)"
   ]
  },
  {
   "cell_type": "code",
   "execution_count": 5,
   "id": "4916532f",
   "metadata": {},
   "outputs": [],
   "source": [
    "zerostate = fsemu.init_state(4)"
   ]
  },
  {
   "cell_type": "code",
   "execution_count": 6,
   "id": "f1f13f35",
   "metadata": {},
   "outputs": [
    {
     "data": {
      "text/plain": [
       "np.float64(0.9999999999999998)"
      ]
     },
     "execution_count": 6,
     "metadata": {},
     "output_type": "execute_result"
    }
   ],
   "source": [
    "fsemu.expectation_value(final, [('Z', (0,)), ('Z', (3,))])"
   ]
  },
  {
   "cell_type": "code",
   "execution_count": 7,
   "id": "3795574c",
   "metadata": {},
   "outputs": [
    {
     "data": {
      "text/plain": [
       "np.float64(0.9999999999999998)"
      ]
     },
     "execution_count": 7,
     "metadata": {},
     "output_type": "execute_result"
    }
   ],
   "source": [
    "fsemu.get_zcorrelator(final, 0,3)"
   ]
  },
  {
   "cell_type": "code",
   "execution_count": 10,
   "id": "e4ae1fbb",
   "metadata": {},
   "outputs": [
    {
     "data": {
      "text/plain": [
       "(1, 1, 1, 1)"
      ]
     },
     "execution_count": 10,
     "metadata": {},
     "output_type": "execute_result"
    }
   ],
   "source": [
    "fsemu.sample_state(final)"
   ]
  },
  {
   "cell_type": "code",
   "execution_count": 2,
   "id": "97583422",
   "metadata": {},
   "outputs": [
    {
     "name": "stdout",
     "output_type": "stream",
     "text": [
      "[[ 7 16 27]\n",
      " [40 55 72]]\n"
     ]
    }
   ],
   "source": [
    "a = np.array([[1, 2, 3], [4, 5, 6]])\n",
    "b = np.array([[7, 8, 9], [10, 11, 12]])\n",
    "\n",
    "result = np.multiply(a, b)\n",
    "print(result)"
   ]
  },
  {
   "cell_type": "code",
   "execution_count": 12,
   "id": "f3bab4c5",
   "metadata": {},
   "outputs": [],
   "source": [
    "test1 = np.array([[[1,1],[1,1]],[[1,1],[1,1]]])\n"
   ]
  },
  {
   "cell_type": "code",
   "execution_count": 13,
   "id": "3a1bd545",
   "metadata": {},
   "outputs": [
    {
     "data": {
      "text/plain": [
       "(2, 2, 2)"
      ]
     },
     "execution_count": 13,
     "metadata": {},
     "output_type": "execute_result"
    }
   ],
   "source": [
    "test1.shape"
   ]
  },
  {
   "cell_type": "code",
   "execution_count": 8,
   "id": "6f4c82e0",
   "metadata": {},
   "outputs": [],
   "source": [
    "import mps\n",
    "import numpy as np\n",
    "import fsemu"
   ]
  },
  {
   "cell_type": "code",
   "execution_count": 9,
   "id": "1eaac008",
   "metadata": {},
   "outputs": [],
   "source": [
    "randomstate = mps.init_state_random(4, 2)\n",
    "zerostate = mps.init_state_zero(4)"
   ]
  },
  {
   "cell_type": "code",
   "execution_count": 10,
   "id": "e31aab1e",
   "metadata": {},
   "outputs": [
    {
     "data": {
      "text/plain": [
       "[array([[[1.],\n",
       "         [0.]]]),\n",
       " array([[[1.],\n",
       "         [0.]]]),\n",
       " array([[[1.],\n",
       "         [0.]]]),\n",
       " array([[[1.],\n",
       "         [0.]]])]"
      ]
     },
     "execution_count": 10,
     "metadata": {},
     "output_type": "execute_result"
    }
   ],
   "source": [
    "zerostate"
   ]
  },
  {
   "cell_type": "code",
   "execution_count": null,
   "id": "580cb01c",
   "metadata": {},
   "outputs": [
    {
     "ename": "IndexError",
     "evalue": "tuple index out of range",
     "output_type": "error",
     "traceback": [
      "\u001b[31m---------------------------------------------------------------------------\u001b[39m",
      "\u001b[31mIndexError\u001b[39m                                Traceback (most recent call last)",
      "\u001b[36mCell\u001b[39m\u001b[36m \u001b[39m\u001b[32mIn[11]\u001b[39m\u001b[32m, line 1\u001b[39m\n\u001b[32m----> \u001b[39m\u001b[32m1\u001b[39m zerostate = \u001b[43mmps\u001b[49m\u001b[43m.\u001b[49m\u001b[43mapply_1q_gate\u001b[49m\u001b[43m(\u001b[49m\u001b[43mzerostate\u001b[49m\u001b[43m,\u001b[49m\u001b[43m \u001b[49m\u001b[32;43m0\u001b[39;49m\u001b[43m,\u001b[49m\u001b[43m \u001b[49m\u001b[33;43m'\u001b[39;49m\u001b[33;43mH\u001b[39;49m\u001b[33;43m'\u001b[39;49m\u001b[43m)\u001b[49m\n\u001b[32m      2\u001b[39m \u001b[38;5;28mprint\u001b[39m(zerostate)\n\u001b[32m      3\u001b[39m zerostate = mps.apply_2q_gate_nn(zerostate, (\u001b[32m0\u001b[39m,\u001b[32m1\u001b[39m), \u001b[33m'\u001b[39m\u001b[33mCNOT\u001b[39m\u001b[33m'\u001b[39m)\n",
      "\u001b[36mFile \u001b[39m\u001b[32mc:\\Users\\Administrator\\Documents\\Coding\\Uni\\JSS34\\JSS25-NANO1\\mps.py:61\u001b[39m, in \u001b[36mapply_1q_gate\u001b[39m\u001b[34m(mps, target, gate)\u001b[39m\n\u001b[32m     60\u001b[39m \u001b[38;5;28;01mdef\u001b[39;00m\u001b[38;5;250m \u001b[39m\u001b[34mapply_1q_gate\u001b[39m(mps, target, gate):\n\u001b[32m---> \u001b[39m\u001b[32m61\u001b[39m     mps[target] = \u001b[43mnp\u001b[49m\u001b[43m.\u001b[49m\u001b[43mtensordot\u001b[49m\u001b[43m(\u001b[49m\u001b[43mmps\u001b[49m\u001b[43m[\u001b[49m\u001b[43mtarget\u001b[49m\u001b[43m]\u001b[49m\u001b[43m,\u001b[49m\u001b[43m \u001b[49m\u001b[43mgate\u001b[49m\u001b[43m,\u001b[49m\u001b[43m \u001b[49m\u001b[43maxes\u001b[49m\u001b[43m=\u001b[49m\u001b[43m(\u001b[49m\u001b[43m[\u001b[49m\u001b[32;43m1\u001b[39;49m\u001b[43m]\u001b[49m\u001b[43m,\u001b[49m\u001b[43m \u001b[49m\u001b[43m[\u001b[49m\u001b[32;43m0\u001b[39;49m\u001b[43m]\u001b[49m\u001b[43m)\u001b[49m\u001b[43m)\u001b[49m\n\u001b[32m     62\u001b[39m     mps[target] = np.moveaxis(mps[target], \u001b[32m2\u001b[39m, \u001b[32m1\u001b[39m)\n\u001b[32m     63\u001b[39m     \u001b[38;5;28;01mreturn\u001b[39;00m mps\n",
      "\u001b[36mFile \u001b[39m\u001b[32mc:\\Users\\Administrator\\Documents\\Coding\\Uni\\JSS34\\JSS25-NANO1\\.venv\\Lib\\site-packages\\numpy\\_core\\numeric.py:1185\u001b[39m, in \u001b[36mtensordot\u001b[39m\u001b[34m(a, b, axes)\u001b[39m\n\u001b[32m   1183\u001b[39m \u001b[38;5;28;01melse\u001b[39;00m:\n\u001b[32m   1184\u001b[39m     \u001b[38;5;28;01mfor\u001b[39;00m k \u001b[38;5;129;01min\u001b[39;00m \u001b[38;5;28mrange\u001b[39m(na):\n\u001b[32m-> \u001b[39m\u001b[32m1185\u001b[39m         \u001b[38;5;28;01mif\u001b[39;00m as_[axes_a[k]] != \u001b[43mbs\u001b[49m\u001b[43m[\u001b[49m\u001b[43maxes_b\u001b[49m\u001b[43m[\u001b[49m\u001b[43mk\u001b[49m\u001b[43m]\u001b[49m\u001b[43m]\u001b[49m:\n\u001b[32m   1186\u001b[39m             equal = \u001b[38;5;28;01mFalse\u001b[39;00m\n\u001b[32m   1187\u001b[39m             \u001b[38;5;28;01mbreak\u001b[39;00m\n",
      "\u001b[31mIndexError\u001b[39m: tuple index out of range"
     ]
    }
   ],
   "source": [
    "zerostate = mps.apply_1q_gate(zerostate, (0,), 'H')\n",
    "print(zerostate)\n",
    "zerostate = mps.apply_2q_gate_nn(zerostate, (0,1), 'CNOT')\n",
    "print(zerostate)"
   ]
  },
  {
   "cell_type": "code",
   "execution_count": 7,
   "id": "a54f3103",
   "metadata": {},
   "outputs": [
    {
     "data": {
      "text/plain": [
       "[array([[[1.],\n",
       "         [0.]]]),\n",
       " array([[[1.],\n",
       "         [0.]]]),\n",
       " array([[[1.],\n",
       "         [0.]]]),\n",
       " array([[[1.],\n",
       "         [0.]]])]"
      ]
     },
     "execution_count": 7,
     "metadata": {},
     "output_type": "execute_result"
    }
   ],
   "source": [
    "zerostate"
   ]
  },
  {
   "cell_type": "code",
   "execution_count": 12,
   "id": "ed5471cc",
   "metadata": {},
   "outputs": [],
   "source": [
    "zerostate = mps.apply_1q_gate(zerostate, 2, mps.gates['Y'])"
   ]
  },
  {
   "cell_type": "code",
   "execution_count": 13,
   "id": "ad73c9fd",
   "metadata": {},
   "outputs": [
    {
     "data": {
      "text/plain": [
       "[array([[[1.],\n",
       "         [0.]]]),\n",
       " array([[[1.],\n",
       "         [0.]]]),\n",
       " array([[[0.+0.70710678j],\n",
       "         [0.-0.70710678j]]]),\n",
       " array([[[1.],\n",
       "         [0.]]])]"
      ]
     },
     "execution_count": 13,
     "metadata": {},
     "output_type": "execute_result"
    }
   ],
   "source": [
    "zerostate"
   ]
  },
  {
   "cell_type": "code",
   "execution_count": 3,
   "id": "64c8975a",
   "metadata": {},
   "outputs": [],
   "source": [
    "flatmps = mps.give_flat(zerostate)"
   ]
  },
  {
   "cell_type": "code",
   "execution_count": 4,
   "id": "5d4babb0",
   "metadata": {},
   "outputs": [],
   "source": [
    "flatfs = fsemu.init_state(4)"
   ]
  },
  {
   "cell_type": "code",
   "execution_count": 5,
   "id": "d3b4045d",
   "metadata": {},
   "outputs": [
    {
     "name": "stdout",
     "output_type": "stream",
     "text": [
      "[[[[1. 0.]\n",
      "   [0. 0.]]\n",
      "\n",
      "  [[0. 0.]\n",
      "   [0. 0.]]]\n",
      "\n",
      "\n",
      " [[[0. 0.]\n",
      "   [0. 0.]]\n",
      "\n",
      "  [[0. 0.]\n",
      "   [0. 0.]]]]\n",
      "[[[[1. 0.]\n",
      "   [0. 0.]]\n",
      "\n",
      "  [[0. 0.]\n",
      "   [0. 0.]]]\n",
      "\n",
      "\n",
      " [[[0. 0.]\n",
      "   [0. 0.]]\n",
      "\n",
      "  [[0. 0.]\n",
      "   [0. 0.]]]]\n"
     ]
    }
   ],
   "source": [
    "print(flatmps)\n",
    "print(flatfs)"
   ]
  },
  {
   "cell_type": "code",
   "execution_count": 6,
   "id": "c9263939",
   "metadata": {},
   "outputs": [],
   "source": [
    "a = np.array([1,2])\n",
    "b= np.array([3,4])\n"
   ]
  },
  {
   "cell_type": "code",
   "execution_count": 11,
   "id": "72d02a36",
   "metadata": {},
   "outputs": [
    {
     "data": {
      "text/plain": [
       "array([1, 2, 3, 4])"
      ]
     },
     "execution_count": 11,
     "metadata": {},
     "output_type": "execute_result"
    }
   ],
   "source": [
    "np.concatenate([a, b])"
   ]
  },
  {
   "cell_type": "code",
   "execution_count": null,
   "id": "6db629b8",
   "metadata": {},
   "outputs": [],
   "source": []
  }
 ],
 "metadata": {
  "kernelspec": {
   "display_name": ".venv",
   "language": "python",
   "name": "python3"
  },
  "language_info": {
   "codemirror_mode": {
    "name": "ipython",
    "version": 3
   },
   "file_extension": ".py",
   "mimetype": "text/x-python",
   "name": "python",
   "nbconvert_exporter": "python",
   "pygments_lexer": "ipython3",
   "version": "3.12.3"
  }
 },
 "nbformat": 4,
 "nbformat_minor": 5
}
